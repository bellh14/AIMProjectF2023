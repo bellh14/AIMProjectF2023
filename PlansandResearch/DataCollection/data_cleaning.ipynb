{
 "cells": [
  {
   "cell_type": "code",
   "execution_count": 1,
   "metadata": {},
   "outputs": [],
   "source": [
    "import pandas as pd\n",
    "\n",
    "df = pd.read_csv(\"employee_attrition.csv\")\n"
   ]
  },
  {
   "cell_type": "code",
   "execution_count": null,
   "metadata": {},
   "outputs": [],
   "source": [
    "# iterate through columns dropping rows with null values and print unique values \n",
    "for i in df.columns:\n",
    "    df = df.dropna(subset=[i])\n",
    "    unique_values = df[i].unique()\n",
    "    print(str(i) + \": \" + str(unique_values))\n",
    "\n",
    "# drop useless columns\n",
    "df.drop(columns=[\"EmployeeID\"], inplace=True)\n",
    "df.drop(columns=[\"EmployeeCount\"], inplace=True)\n",
    "df.drop(columns=[\"Over18\"], inplace=True)\n",
    "df.drop(columns=[\"StandardHours\"], inplace=True)\n",
    "\n",
    "# convert categorical values into integer values\n",
    "from sklearn.preprocessing import OrdinalEncoder\n",
    "encoder = OrdinalEncoder()\n",
    "df[\"Attrition\"] = encoder.fit_transform(df[[\"Attrition\"]])\n",
    "df[\"BusinessTravel\"] = encoder.fit_transform(df[[\"BusinessTravel\"]])\n",
    "df[\"Department\"] = encoder.fit_transform(df[[\"Department\"]])\n",
    "df[\"EducationField\"] = encoder.fit_transform(df[[\"EducationField\"]])\n",
    "df[\"Gender\"] = encoder.fit_transform(df[[\"Gender\"]])\n",
    "df[\"JobRole\"] = encoder.fit_transform(df[[\"JobRole\"]])\n",
    "df[\"MaritalStatus\"] = encoder.fit_transform(df[[\"MaritalStatus\"]])\n",
    "\n",
    "# create correlation matrix\n",
    "# corr_matrix = housing.corr()\n",
    "# corr_matrix[\"median_house_value\"].sort_values(ascending=False)\n",
    "\n",
    "#print(df.shape[0])\n",
    "df.head()"
   ]
  },
  {
   "cell_type": "code",
   "execution_count": null,
   "metadata": {},
   "outputs": [],
   "source": [
    "# create correlation matrix\n",
    "corr_matrix = df.corr()\n",
    "corr_matrix"
   ]
  }
 ],
 "metadata": {
  "kernelspec": {
   "display_name": "testenv",
   "language": "python",
   "name": "python3"
  },
  "language_info": {
   "codemirror_mode": {
    "name": "ipython",
    "version": 3
   },
   "file_extension": ".py",
   "mimetype": "text/x-python",
   "name": "python",
   "nbconvert_exporter": "python",
   "pygments_lexer": "ipython3",
   "version": "3.11.3"
  }
 },
 "nbformat": 4,
 "nbformat_minor": 2
}
