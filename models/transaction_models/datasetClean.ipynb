{
 "cells": [
  {
   "cell_type": "code",
   "execution_count": 26,
   "metadata": {},
   "outputs": [],
   "source": [
    "import numpy as np\n",
    "import pandas as pd\n",
    "import matplotlib.pyplot as plt\n",
    "import seaborn as sns\n",
    "from sklearn.impute import SimpleImputer\n",
    "from sklearn.preprocessing import MinMaxScaler\n",
    "from sklearn.preprocessing import LabelEncoder\n",
    "import hashlib\n",
    "\n"
   ]
  },
  {
   "cell_type": "code",
   "execution_count": 27,
   "metadata": {},
   "outputs": [
    {
     "name": "stdout",
     "output_type": "stream",
     "text": [
      "   Customer ID      Name    Surname Gender   Birthdate  Transaction Amount  \\\n",
      "0       752858      Sean  Rodriguez      F  2002-10-20               35.47   \n",
      "1        26381  Michelle     Phelps    NaN  1985-10-24             2552.72   \n",
      "2       305449     Jacob   Williams      M  1981-10-25              115.97   \n",
      "3       988259    Nathan     Snyder      M  1977-10-26               11.31   \n",
      "4       764762   Crystal      Knapp      F  1951-11-02               62.21   \n",
      "\n",
      "         Date               Merchant Name     Category  \n",
      "0  2023-04-03               Smith-Russell     Cosmetic  \n",
      "1  2023-07-17      Peck, Spence and Young       Travel  \n",
      "2  2023-09-20                  Steele Inc     Clothing  \n",
      "3  2023-01-11  Wilson, Wilson and Russell     Cosmetic  \n",
      "4  2023-06-13               Palmer-Hinton  Electronics  \n"
     ]
    }
   ],
   "source": [
    "data=pd.read_csv('sample_dataset.csv')\n",
    "print(data.head())\n"
   ]
  },
  {
   "cell_type": "code",
   "execution_count": 3,
   "metadata": {},
   "outputs": [
    {
     "name": "stdout",
     "output_type": "stream",
     "text": [
      "<class 'pandas.core.frame.DataFrame'>\n",
      "RangeIndex: 50000 entries, 0 to 49999\n",
      "Data columns (total 9 columns):\n",
      " #   Column              Non-Null Count  Dtype  \n",
      "---  ------              --------------  -----  \n",
      " 0   Customer ID         50000 non-null  int64  \n",
      " 1   Name                50000 non-null  object \n",
      " 2   Surname             50000 non-null  object \n",
      " 3   Gender              44953 non-null  object \n",
      " 4   Birthdate           50000 non-null  object \n",
      " 5   Transaction Amount  50000 non-null  float64\n",
      " 6   Date                50000 non-null  object \n",
      " 7   Merchant Name       50000 non-null  object \n",
      " 8   Category            50000 non-null  object \n",
      "dtypes: float64(1), int64(1), object(7)\n",
      "memory usage: 3.4+ MB\n",
      "None\n"
     ]
    }
   ],
   "source": [
    "# get general information about the dataset\n",
    "print(data.info())"
   ]
  },
  {
   "cell_type": "code",
   "execution_count": 4,
   "metadata": {},
   "outputs": [
    {
     "name": "stdout",
     "output_type": "stream",
     "text": [
      "Customer ID              0\n",
      "Name                     0\n",
      "Surname                  0\n",
      "Gender                5047\n",
      "Birthdate                0\n",
      "Transaction Amount       0\n",
      "Date                     0\n",
      "Merchant Name            0\n",
      "Category                 0\n",
      "dtype: int64\n"
     ]
    }
   ],
   "source": [
    "# check for missing values\n",
    "print(data.isnull().sum())"
   ]
  },
  {
   "cell_type": "code",
   "execution_count": 5,
   "metadata": {},
   "outputs": [
    {
     "name": "stdout",
     "output_type": "stream",
     "text": [
      "   Customer ID     Name    Surname Gender   Birthdate  Transaction Amount  \\\n",
      "0       752858     Sean  Rodriguez      F  2002-10-20               35.47   \n",
      "2       305449    Jacob   Williams      M  1981-10-25              115.97   \n",
      "3       988259   Nathan     Snyder      M  1977-10-26               11.31   \n",
      "4       764762  Crystal      Knapp      F  1951-11-02               62.21   \n",
      "5       576539   Monica   Bartlett      F  2001-10-20               99.14   \n",
      "\n",
      "         Date               Merchant Name     Category  \n",
      "0  2023-04-03               Smith-Russell     Cosmetic  \n",
      "2  2023-09-20                  Steele Inc     Clothing  \n",
      "3  2023-01-11  Wilson, Wilson and Russell     Cosmetic  \n",
      "4  2023-06-13               Palmer-Hinton  Electronics  \n",
      "5  2023-08-24      Tran, Torres and Joyce     Cosmetic  \n"
     ]
    }
   ],
   "source": [
    "# filter rows where 'Gender' is 'F' or 'M'\n",
    "data = data[data['Gender'].isin(['F', 'M'])]\n",
    "# display the updated DataFrame\n",
    "print(data.head())\n"
   ]
  },
  {
   "cell_type": "code",
   "execution_count": 6,
   "metadata": {},
   "outputs": [
    {
     "name": "stdout",
     "output_type": "stream",
     "text": [
      "Customer ID           0\n",
      "Name                  0\n",
      "Surname               0\n",
      "Gender                0\n",
      "Birthdate             0\n",
      "Transaction Amount    0\n",
      "Date                  0\n",
      "Merchant Name         0\n",
      "Category              0\n",
      "dtype: int64\n"
     ]
    }
   ],
   "source": [
    "# check for missing values\n",
    "print(data.isnull().sum())"
   ]
  },
  {
   "cell_type": "code",
   "execution_count": 7,
   "metadata": {},
   "outputs": [
    {
     "name": "stdout",
     "output_type": "stream",
     "text": [
      "<class 'pandas.core.frame.DataFrame'>\n",
      "Index: 44953 entries, 0 to 49999\n",
      "Data columns (total 9 columns):\n",
      " #   Column              Non-Null Count  Dtype  \n",
      "---  ------              --------------  -----  \n",
      " 0   Customer ID         44953 non-null  int64  \n",
      " 1   Name                44953 non-null  object \n",
      " 2   Surname             44953 non-null  object \n",
      " 3   Gender              44953 non-null  object \n",
      " 4   Birthdate           44953 non-null  object \n",
      " 5   Transaction Amount  44953 non-null  float64\n",
      " 6   Date                44953 non-null  object \n",
      " 7   Merchant Name       44953 non-null  object \n",
      " 8   Category            44953 non-null  object \n",
      "dtypes: float64(1), int64(1), object(7)\n",
      "memory usage: 3.4+ MB\n"
     ]
    }
   ],
   "source": [
    "data.info()"
   ]
  },
  {
   "cell_type": "code",
   "execution_count": 8,
   "metadata": {},
   "outputs": [
    {
     "name": "stdout",
     "output_type": "stream",
     "text": [
      "Index(['Customer ID', 'Name', 'Surname', 'Gender', 'Birthdate',\n",
      "       'Transaction Amount', 'Date', 'Merchant Name', 'Category'],\n",
      "      dtype='object')\n"
     ]
    }
   ],
   "source": [
    "# remove duplicate rows if present\n",
    "data.drop_duplicates(inplace=True)\n",
    "# display the columns in your DataFrame\n",
    "print(data.columns)\n"
   ]
  },
  {
   "cell_type": "code",
   "execution_count": 9,
   "metadata": {},
   "outputs": [
    {
     "name": "stdout",
     "output_type": "stream",
     "text": [
      "   Customer ID     Name    Surname Gender  Birthdate  Transaction Amount  \\\n",
      "0       752858     Sean  Rodriguez      F 2002-10-20               35.47   \n",
      "2       305449    Jacob   Williams      M 1981-10-25              115.97   \n",
      "3       988259   Nathan     Snyder      M 1977-10-26               11.31   \n",
      "4       764762  Crystal      Knapp      F 1951-11-02               62.21   \n",
      "5       576539   Monica   Bartlett      F 2001-10-20               99.14   \n",
      "\n",
      "        Date               Merchant Name     Category  \n",
      "0 2023-04-03               Smith-Russell     Cosmetic  \n",
      "2 2023-09-20                  Steele Inc     Clothing  \n",
      "3 2023-01-11  Wilson, Wilson and Russell     Cosmetic  \n",
      "4 2023-06-13               Palmer-Hinton  Electronics  \n",
      "5 2023-08-24      Tran, Torres and Joyce     Cosmetic  \n"
     ]
    }
   ],
   "source": [
    "# convert 'Birthdate' and 'Date' columns to datetime format\n",
    "data['Birthdate'] = pd.to_datetime(data['Birthdate'])\n",
    "data['Date'] = pd.to_datetime(data['Date'])\n",
    "# display the first few rows of the dataset\n",
    "print(data.head())"
   ]
  },
  {
   "cell_type": "code",
   "execution_count": 10,
   "metadata": {},
   "outputs": [
    {
     "name": "stdout",
     "output_type": "stream",
     "text": [
      "   Customer ID     Name    Surname Gender  Birthdate  Transaction Amount  \\\n",
      "0       752858     Sean  Rodriguez      F 2002-10-20               35.47   \n",
      "2       305449    Jacob   Williams      M 1981-10-25              115.97   \n",
      "3       988259   Nathan     Snyder      M 1977-10-26               11.31   \n",
      "4       764762  Crystal      Knapp      F 1951-11-02               62.21   \n",
      "5       576539   Monica   Bartlett      F 2001-10-20               99.14   \n",
      "\n",
      "        Date               Merchant Name     Category  Age  \n",
      "0 2023-04-03               Smith-Russell     Cosmetic   20  \n",
      "2 2023-09-20                  Steele Inc     Clothing   41  \n",
      "3 2023-01-11  Wilson, Wilson and Russell     Cosmetic   45  \n",
      "4 2023-06-13               Palmer-Hinton  Electronics   71  \n",
      "5 2023-08-24      Tran, Torres and Joyce     Cosmetic   21  \n"
     ]
    }
   ],
   "source": [
    "current_date = data['Date'].max()\n",
    "# calculate age based on 'Birthdate' and current date\n",
    "data['Age'] = (current_date - data['Birthdate']).dt.days // 365  # Calculating age in years\n",
    "# display the first few rows of the dataset\n",
    "print(data.head())"
   ]
  },
  {
   "cell_type": "code",
   "execution_count": 11,
   "metadata": {},
   "outputs": [],
   "source": [
    "data['Name'] = data['Name'].str.lower()\n",
    "data['Surname'] = data['Surname'].str.lower()"
   ]
  },
  {
   "cell_type": "code",
   "execution_count": 12,
   "metadata": {},
   "outputs": [
    {
     "name": "stdout",
     "output_type": "stream",
     "text": [
      "   Customer_ID     Name    Surname Gender  Birthdate  Transaction Amount  \\\n",
      "0     0.752853     sean  rodriguez      F 2002-10-20               35.47   \n",
      "2     0.305430    jacob   williams      M 1981-10-25              115.97   \n",
      "3     0.988262   nathan     snyder      M 1977-10-26               11.31   \n",
      "4     0.764757  crystal      knapp      F 1951-11-02               62.21   \n",
      "5     0.576528   monica   bartlett      F 2001-10-20               99.14   \n",
      "\n",
      "        Date               Merchant Name     Category  Age  \n",
      "0 2023-04-03               Smith-Russell     Cosmetic   20  \n",
      "2 2023-09-20                  Steele Inc     Clothing   41  \n",
      "3 2023-01-11  Wilson, Wilson and Russell     Cosmetic   45  \n",
      "4 2023-06-13               Palmer-Hinton  Electronics   71  \n",
      "5 2023-08-24      Tran, Torres and Joyce     Cosmetic   21  \n"
     ]
    }
   ],
   "source": [
    "#normalize customer ID\n",
    "# initialize the MinMaxScaler\n",
    "scaler = MinMaxScaler()\n",
    "# Normalize the 'Customer ID' column\n",
    "data[['Customer ID']] = scaler.fit_transform(data[['Customer ID']])\n",
    "data = data.rename(columns={'Customer ID': 'Customer_ID'})\n",
    "# Display the updated DataFrame\n",
    "print(data.head())"
   ]
  },
  {
   "cell_type": "code",
   "execution_count": 13,
   "metadata": {},
   "outputs": [
    {
     "name": "stdout",
     "output_type": "stream",
     "text": [
      "   Customer_ID      Name    Surname Gender  Birthdate  Transaction Amount  \\\n",
      "0     0.752853  0.569857  rodriguez      F 2002-10-20               35.47   \n",
      "2     0.305430  0.015687   williams      M 1981-10-25              115.97   \n",
      "3     0.988262  0.023547     snyder      M 1977-10-26               11.31   \n",
      "4     0.764757  0.657960      knapp      F 1951-11-02               62.21   \n",
      "5     0.576528  0.740904   bartlett      F 2001-10-20               99.14   \n",
      "\n",
      "        Date               Merchant Name     Category  Age  \n",
      "0 2023-04-03               Smith-Russell     Cosmetic   20  \n",
      "2 2023-09-20                  Steele Inc     Clothing   41  \n",
      "3 2023-01-11  Wilson, Wilson and Russell     Cosmetic   45  \n",
      "4 2023-06-13               Palmer-Hinton  Electronics   71  \n",
      "5 2023-08-24      Tran, Torres and Joyce     Cosmetic   21  \n"
     ]
    }
   ],
   "source": [
    "# Hash the 'Name' column\n",
    "data['Name_Hash'] = data['Name'].apply(lambda x: int(hashlib.sha256(x.encode('utf-8')).hexdigest(), 16) % 10**8)\n",
    "# Scale the hashed values to a range between 0 and 1\n",
    "min_value_name = data['Name_Hash'].min()\n",
    "max_value_name = data['Name_Hash'].max()\n",
    "data['Name_Normalized'] = (data['Name_Hash'] - min_value_name) / (max_value_name - min_value_name)\n",
    "# Replace the 'Name' column with the normalized values\n",
    "data['Name'] = data['Name_Normalized']\n",
    "# Drop the intermediate columns if needed\n",
    "data.drop(columns=['Name_Hash', 'Name_Normalized'], inplace=True)\n",
    "# Display the updated DataFrame with replaced 'Name' column\n",
    "print(data.head())"
   ]
  },
  {
   "cell_type": "code",
   "execution_count": 14,
   "metadata": {},
   "outputs": [
    {
     "name": "stdout",
     "output_type": "stream",
     "text": [
      "   Customer_ID      Name   Surname Gender  Birthdate  Transaction Amount  \\\n",
      "0     0.752853  0.569857  0.306236      F 2002-10-20               35.47   \n",
      "2     0.305430  0.015687  0.053449      M 1981-10-25              115.97   \n",
      "3     0.988262  0.023547  0.209277      M 1977-10-26               11.31   \n",
      "4     0.764757  0.657960  0.410629      F 1951-11-02               62.21   \n",
      "5     0.576528  0.740904  0.047007      F 2001-10-20               99.14   \n",
      "\n",
      "        Date               Merchant Name     Category  Age  \n",
      "0 2023-04-03               Smith-Russell     Cosmetic   20  \n",
      "2 2023-09-20                  Steele Inc     Clothing   41  \n",
      "3 2023-01-11  Wilson, Wilson and Russell     Cosmetic   45  \n",
      "4 2023-06-13               Palmer-Hinton  Electronics   71  \n",
      "5 2023-08-24      Tran, Torres and Joyce     Cosmetic   21  \n"
     ]
    }
   ],
   "source": [
    "# Hash the 'Surname' column\n",
    "data['Surname_Hash'] = data['Surname'].apply(lambda x: int(hashlib.sha256(x.encode('utf-8')).hexdigest(), 16) % 10**8)\n",
    "# Scale the hashed values to a range between 0 and 1\n",
    "min_value_surname = data['Surname_Hash'].min()\n",
    "max_value_surname = data['Surname_Hash'].max()\n",
    "data['Surname_Normalized'] = (data['Surname_Hash'] - min_value_surname) / (max_value_surname - min_value_surname)\n",
    "# Replace the 'Surname' column with the normalized values\n",
    "data['Surname'] = data['Surname_Normalized']\n",
    "# Drop the intermediate columns if needed\n",
    "data.drop(columns=['Surname_Hash', 'Surname_Normalized'], inplace=True)\n",
    "# Display the updated DataFrame with replaced 'Surname' column\n",
    "print(data.head())"
   ]
  },
  {
   "cell_type": "code",
   "execution_count": 15,
   "metadata": {},
   "outputs": [
    {
     "name": "stdout",
     "output_type": "stream",
     "text": [
      "   Customer_ID      Name   Surname  Gender  Birthdate  Transaction Amount  \\\n",
      "0     0.752853  0.569857  0.306236       1 2002-10-20               35.47   \n",
      "2     0.305430  0.015687  0.053449       0 1981-10-25              115.97   \n",
      "3     0.988262  0.023547  0.209277       0 1977-10-26               11.31   \n",
      "4     0.764757  0.657960  0.410629       1 1951-11-02               62.21   \n",
      "5     0.576528  0.740904  0.047007       1 2001-10-20               99.14   \n",
      "\n",
      "        Date               Merchant Name     Category  Age  \n",
      "0 2023-04-03               Smith-Russell     Cosmetic   20  \n",
      "2 2023-09-20                  Steele Inc     Clothing   41  \n",
      "3 2023-01-11  Wilson, Wilson and Russell     Cosmetic   45  \n",
      "4 2023-06-13               Palmer-Hinton  Electronics   71  \n",
      "5 2023-08-24      Tran, Torres and Joyce     Cosmetic   21  \n"
     ]
    }
   ],
   "source": [
    "# Replace 'M' with 0 and 'F' with 1 in the 'Gender' column\n",
    "data['Gender'] = data['Gender'].map({'M': 0, 'F': 1})\n",
    "# Display the updated DataFrame\n",
    "print(data.head())"
   ]
  },
  {
   "cell_type": "code",
   "execution_count": 16,
   "metadata": {},
   "outputs": [
    {
     "name": "stdout",
     "output_type": "stream",
     "text": [
      "   Customer_ID      Name   Surname  Gender  Birthdate  Transaction Amount  \\\n",
      "0     0.752853  0.569857  0.306236       1   0.947368               35.47   \n",
      "2     0.305430  0.015687  0.053449       0   0.578947              115.97   \n",
      "3     0.988262  0.023547  0.209277       0   0.508772               11.31   \n",
      "4     0.764757  0.657960  0.410629       1   0.052632               62.21   \n",
      "5     0.576528  0.740904  0.047007       1   0.929825               99.14   \n",
      "\n",
      "        Date               Merchant Name     Category  Age  \n",
      "0 2023-04-03               Smith-Russell     Cosmetic   20  \n",
      "2 2023-09-20                  Steele Inc     Clothing   41  \n",
      "3 2023-01-11  Wilson, Wilson and Russell     Cosmetic   45  \n",
      "4 2023-06-13               Palmer-Hinton  Electronics   71  \n",
      "5 2023-08-24      Tran, Torres and Joyce     Cosmetic   21  \n"
     ]
    }
   ],
   "source": [
    "# Convert 'Birthdate' column to datetime format\n",
    "data['Birthdate'] = pd.to_datetime(data['Birthdate'])\n",
    "# Scale the 'Birthdate' values to a range between 0 and 1\n",
    "min_date = data['Birthdate'].min()\n",
    "max_date = data['Birthdate'].max()\n",
    "data['Normalized_Birthdate'] = (data['Birthdate'] - min_date) / (max_date - min_date)\n",
    "# Replace the 'Birthdate' column with the normalized dates\n",
    "data['Birthdate'] = data['Normalized_Birthdate']\n",
    "# Drop the intermediate column if needed\n",
    "data.drop(columns=['Normalized_Birthdate'], inplace=True)\n",
    "# Display the updated DataFrame with replaced 'Birthdate' column\n",
    "print(data.head())\n"
   ]
  },
  {
   "cell_type": "code",
   "execution_count": 17,
   "metadata": {},
   "outputs": [
    {
     "name": "stdout",
     "output_type": "stream",
     "text": [
      "   Customer_ID      Name   Surname  Gender  Birthdate  Transaction       Date  \\\n",
      "0     0.752853  0.569857  0.306236       1   0.947368     0.010171 2023-04-03   \n",
      "2     0.305430  0.015687  0.053449       0   0.578947     0.037050 2023-09-20   \n",
      "3     0.988262  0.023547  0.209277       0   0.508772     0.002104 2023-01-11   \n",
      "4     0.764757  0.657960  0.410629       1   0.052632     0.019099 2023-06-13   \n",
      "5     0.576528  0.740904  0.047007       1   0.929825     0.031430 2023-08-24   \n",
      "\n",
      "                Merchant Name     Category  Age  \n",
      "0               Smith-Russell     Cosmetic   20  \n",
      "2                  Steele Inc     Clothing   41  \n",
      "3  Wilson, Wilson and Russell     Cosmetic   45  \n",
      "4               Palmer-Hinton  Electronics   71  \n",
      "5      Tran, Torres and Joyce     Cosmetic   21  \n"
     ]
    }
   ],
   "source": [
    "# Reshape the 'Transaction Amount' column and fit_transform to scale between 0 and 1\n",
    "data[['Transaction Amount']] = scaler.fit_transform(data[['Transaction Amount']])\n",
    "data = data.rename(columns={'Transaction Amount': 'Transaction'})\n",
    "# Display the updated DataFrame with normalized 'Transaction Amount'\n",
    "print(data.head())"
   ]
  },
  {
   "cell_type": "code",
   "execution_count": 18,
   "metadata": {},
   "outputs": [
    {
     "name": "stdout",
     "output_type": "stream",
     "text": [
      "   Customer_ID      Name   Surname  Gender  Birthdate  Transaction       Date  \\\n",
      "0     0.752853  0.569857  0.306236       1   0.947368     0.010171 2023-04-03   \n",
      "2     0.305430  0.015687  0.053449       0   0.578947     0.037050 2023-09-20   \n",
      "3     0.988262  0.023547  0.209277       0   0.508772     0.002104 2023-01-11   \n",
      "4     0.764757  0.657960  0.410629       1   0.052632     0.019099 2023-06-13   \n",
      "5     0.576528  0.740904  0.047007       1   0.929825     0.031430 2023-08-24   \n",
      "\n",
      "                Merchant Name     Category  Age  Month  Year  \n",
      "0               Smith-Russell     Cosmetic   20      4  2023  \n",
      "2                  Steele Inc     Clothing   41      9  2023  \n",
      "3  Wilson, Wilson and Russell     Cosmetic   45      1  2023  \n",
      "4               Palmer-Hinton  Electronics   71      6  2023  \n",
      "5      Tran, Torres and Joyce     Cosmetic   21      8  2023  \n"
     ]
    }
   ],
   "source": [
    "# Convert 'Date' column to datetime format\n",
    "data['Date'] = pd.to_datetime(data['Date'])\n",
    "# Extract month and year to new columns\n",
    "data['Month'] = data['Date'].dt.month\n",
    "data['Year'] = data['Date'].dt.year\n",
    "# Display the updated DataFrame \n",
    "print(data.head())\n"
   ]
  },
  {
   "cell_type": "code",
   "execution_count": 19,
   "metadata": {},
   "outputs": [
    {
     "name": "stdout",
     "output_type": "stream",
     "text": [
      "   Customer_ID      Name   Surname  Gender  Birthdate  Transaction       Date  \\\n",
      "0     0.752853  0.569857  0.306236       1   0.947368     0.010171 2023-04-03   \n",
      "2     0.305430  0.015687  0.053449       0   0.578947     0.037050 2023-09-20   \n",
      "3     0.988262  0.023547  0.209277       0   0.508772     0.002104 2023-01-11   \n",
      "4     0.764757  0.657960  0.410629       1   0.052632     0.019099 2023-06-13   \n",
      "5     0.576528  0.740904  0.047007       1   0.929825     0.031430 2023-08-24   \n",
      "\n",
      "   Merchant_Name     Category  Age  Month  Year  \n",
      "0       0.838761     Cosmetic   20      4  2023  \n",
      "2       0.849377     Clothing   41      9  2023  \n",
      "3       0.974425     Cosmetic   45      1  2023  \n",
      "4       0.667440  Electronics   71      6  2023  \n",
      "5       0.892378     Cosmetic   21      8  2023  \n"
     ]
    }
   ],
   "source": [
    "# Encode the 'Merchant Name' column\n",
    "label_encoder = LabelEncoder()\n",
    "data['Merchant_Encoded'] = label_encoder.fit_transform(data['Merchant Name'])\n",
    "# Rescale the encoded values to a range between 0 and 1\n",
    "data['Normalized_Merchant'] = scaler.fit_transform(data['Merchant_Encoded'].values.reshape(-1, 1))\n",
    "# Replace the 'Merchant Name' column with the normalized values\n",
    "data['Merchant Name'] = data['Normalized_Merchant']\n",
    "# Drop the intermediate columns if needed\n",
    "data.drop(columns=['Merchant_Encoded', 'Normalized_Merchant'], inplace=True)\n",
    "data = data.rename(columns={'Merchant Name': 'Merchant_Name'})\n",
    "# Display the updated DataFrame with replaced 'Merchant Name' column\n",
    "print(data.head())"
   ]
  },
  {
   "cell_type": "code",
   "execution_count": 20,
   "metadata": {},
   "outputs": [
    {
     "name": "stdout",
     "output_type": "stream",
     "text": [
      "   Customer_ID      Name   Surname  Gender  Birthdate  Transaction       Date  \\\n",
      "0     0.752853  0.569857  0.306236       1   0.947368     0.010171 2023-04-03   \n",
      "2     0.305430  0.015687  0.053449       0   0.578947     0.037050 2023-09-20   \n",
      "3     0.988262  0.023547  0.209277       0   0.508772     0.002104 2023-01-11   \n",
      "4     0.764757  0.657960  0.410629       1   0.052632     0.019099 2023-06-13   \n",
      "5     0.576528  0.740904  0.047007       1   0.929825     0.031430 2023-08-24   \n",
      "\n",
      "   Merchant_Name  Category  Age  Month  Year  \n",
      "0       0.838761       0.2   20      4  2023  \n",
      "2       0.849377       0.0   41      9  2023  \n",
      "3       0.974425       0.2   45      1  2023  \n",
      "4       0.667440       0.4   71      6  2023  \n",
      "5       0.892378       0.2   21      8  2023  \n"
     ]
    }
   ],
   "source": [
    "# Encode the 'Category' column\n",
    "data['Category_Encoded'] = label_encoder.fit_transform(data['Category'])\n",
    "# Rescale the encoded values to a range between 0 and 1\n",
    "data['Normalized_Category'] = scaler.fit_transform(data['Category_Encoded'].values.reshape(-1, 1))\n",
    "# Replace the 'Category' column with the normalized values\n",
    "data['Category'] = data['Normalized_Category']\n",
    "# Drop the intermediate columns if needed\n",
    "data.drop(columns=['Category_Encoded', 'Normalized_Category'], inplace=True)\n",
    "# Display the updated DataFrame with replaced 'Category' column\n",
    "print(data.head())"
   ]
  },
  {
   "cell_type": "code",
   "execution_count": 21,
   "metadata": {},
   "outputs": [
    {
     "name": "stdout",
     "output_type": "stream",
     "text": [
      "   Customer_ID      Name   Surname  Gender  Birthdate  Transaction       Date  \\\n",
      "0     0.752853  0.569857  0.306236       1   0.947368     0.010171 2023-04-03   \n",
      "2     0.305430  0.015687  0.053449       0   0.578947     0.037050 2023-09-20   \n",
      "3     0.988262  0.023547  0.209277       0   0.508772     0.002104 2023-01-11   \n",
      "4     0.764757  0.657960  0.410629       1   0.052632     0.019099 2023-06-13   \n",
      "5     0.576528  0.740904  0.047007       1   0.929825     0.031430 2023-08-24   \n",
      "\n",
      "   Merchant_Name  Category       Age  Month  Year  \n",
      "0       0.838761       0.2  0.052632      4  2023  \n",
      "2       0.849377       0.0  0.421053      9  2023  \n",
      "3       0.974425       0.2  0.491228      1  2023  \n",
      "4       0.667440       0.4  0.947368      6  2023  \n",
      "5       0.892378       0.2  0.070175      8  2023  \n"
     ]
    }
   ],
   "source": [
    "# Rescale the 'Age' values to a range between 0 and 1\n",
    "data['Normalized_Age'] = scaler.fit_transform(data['Age'].values.reshape(-1, 1))\n",
    "data['Age'] = data['Normalized_Age']\n",
    "data.drop(columns=['Normalized_Age'], inplace=True)\n",
    "# Display the updated DataFrame with normalized 'Age'\n",
    "print(data.head())"
   ]
  },
  {
   "cell_type": "code",
   "execution_count": 22,
   "metadata": {},
   "outputs": [
    {
     "name": "stdout",
     "output_type": "stream",
     "text": [
      "   Customer_ID      Name   Surname  Gender  Birthdate  Transaction       Date  \\\n",
      "0     0.752853  0.569857  0.306236       1   0.947368     0.010171 2023-04-03   \n",
      "2     0.305430  0.015687  0.053449       0   0.578947     0.037050 2023-09-20   \n",
      "3     0.988262  0.023547  0.209277       0   0.508772     0.002104 2023-01-11   \n",
      "4     0.764757  0.657960  0.410629       1   0.052632     0.019099 2023-06-13   \n",
      "5     0.576528  0.740904  0.047007       1   0.929825     0.031430 2023-08-24   \n",
      "\n",
      "   Merchant_Name  Category       Age     Month  Year  \n",
      "0       0.838761       0.2  0.052632  0.333333  2023  \n",
      "2       0.849377       0.0  0.421053  0.888889  2023  \n",
      "3       0.974425       0.2  0.491228  0.000000  2023  \n",
      "4       0.667440       0.4  0.947368  0.555556  2023  \n",
      "5       0.892378       0.2  0.070175  0.777778  2023  \n"
     ]
    }
   ],
   "source": [
    "# Rescale the 'Month' values to a range between 0 and 1\n",
    "data['Normalized_Month'] = scaler.fit_transform(data['Month'].values.reshape(-1, 1))\n",
    "# Replace the 'Month' column with the normalized values\n",
    "data['Month'] = data['Normalized_Month']\n",
    "# Drop the intermediate column if needed\n",
    "data.drop(columns=['Normalized_Month'], inplace=True)\n",
    "print(data.head())"
   ]
  },
  {
   "cell_type": "code",
   "execution_count": 23,
   "metadata": {},
   "outputs": [
    {
     "name": "stdout",
     "output_type": "stream",
     "text": [
      "   Customer_ID      Name   Surname  Gender  Birthdate  Transaction       Date  \\\n",
      "0     0.752853  0.569857  0.306236       1   0.947368     0.010171 2023-04-03   \n",
      "2     0.305430  0.015687  0.053449       0   0.578947     0.037050 2023-09-20   \n",
      "3     0.988262  0.023547  0.209277       0   0.508772     0.002104 2023-01-11   \n",
      "4     0.764757  0.657960  0.410629       1   0.052632     0.019099 2023-06-13   \n",
      "5     0.576528  0.740904  0.047007       1   0.929825     0.031430 2023-08-24   \n",
      "\n",
      "   Merchant_Name  Category       Age     Month  Year  \n",
      "0       0.838761       0.2  0.052632  0.333333   0.0  \n",
      "2       0.849377       0.0  0.421053  0.888889   0.0  \n",
      "3       0.974425       0.2  0.491228  0.000000   0.0  \n",
      "4       0.667440       0.4  0.947368  0.555556   0.0  \n",
      "5       0.892378       0.2  0.070175  0.777778   0.0  \n"
     ]
    }
   ],
   "source": [
    "# Rescale the 'Year' values to a range between 0 and 1\n",
    "data['Normalized_Year'] = scaler.fit_transform(data['Year'].values.reshape(-1, 1))\n",
    "# Replace the 'Year' column with the normalized values\n",
    "data['Year'] = data['Normalized_Year']\n",
    "# Drop the intermediate column if needed\n",
    "data.drop(columns=['Normalized_Year'], inplace=True)\n",
    "# Display the updated DataFrame with replaced 'Year' column\n",
    "print(data.head())"
   ]
  },
  {
   "cell_type": "code",
   "execution_count": 24,
   "metadata": {},
   "outputs": [
    {
     "name": "stdout",
     "output_type": "stream",
     "text": [
      "   Gender  Transaction  Merchant_Name  Category       Age     Month  Year\n",
      "0       1     0.010171       0.838761       0.2  0.052632  0.333333   0.0\n",
      "2       0     0.037050       0.849377       0.0  0.421053  0.888889   0.0\n",
      "3       0     0.002104       0.974425       0.2  0.491228  0.000000   0.0\n",
      "4       1     0.019099       0.667440       0.4  0.947368  0.555556   0.0\n",
      "5       1     0.031430       0.892378       0.2  0.070175  0.777778   0.0\n"
     ]
    }
   ],
   "source": [
    "# Drop the 'Date' column\n",
    "data.drop(columns=['Date', 'Customer_ID', 'Name', 'Surname', 'Birthdate'], inplace=True)\n",
    "# Display the updated DataFrame without the 'Date' column\n",
    "print(data.head())\n"
   ]
  },
  {
   "cell_type": "code",
   "execution_count": 25,
   "metadata": {},
   "outputs": [],
   "source": [
    "# Save the DataFrame with normalized data to a new CSV file\n",
    "data.to_csv('normalized_data.csv', index=False)"
   ]
  }
 ],
 "metadata": {
  "kernelspec": {
   "display_name": "Python 3",
   "language": "python",
   "name": "python3"
  },
  "language_info": {
   "codemirror_mode": {
    "name": "ipython",
    "version": 3
   },
   "file_extension": ".py",
   "mimetype": "text/x-python",
   "name": "python",
   "nbconvert_exporter": "python",
   "pygments_lexer": "ipython3",
   "version": "3.11.6"
  }
 },
 "nbformat": 4,
 "nbformat_minor": 2
}
